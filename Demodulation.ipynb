{
 "cells": [
  {
   "cell_type": "markdown",
   "id": "404b84e7",
   "metadata": {},
   "source": [
    "\n",
    "\n",
    "\n",
    "\n",
    "# Demodulation with mean"
   ]
  },
  {
   "cell_type": "markdown",
   "id": "193918d3",
   "metadata": {},
   "source": [
    "Note: https://stackoverflow.com/questions/26171230/matplotlib-seaborn-barplot-strings-in-x-axis"
   ]
  },
  {
   "cell_type": "markdown",
   "id": "02738b49-a189-46e7-afb2-1099f158a72d",
   "metadata": {},
   "source": [
    "Load libraries"
   ]
  },
  {
   "cell_type": "code",
   "execution_count": null,
   "id": "9e2b1cc9",
   "metadata": {},
   "outputs": [],
   "source": [
    "from common_imports import *"
   ]
  },
  {
   "cell_type": "markdown",
   "id": "2c8bfc5f",
   "metadata": {},
   "source": [
    "### Attacking blocking cards inside a wallet"
   ]
  },
  {
   "cell_type": "markdown",
   "id": "349930df",
   "metadata": {},
   "source": [
    "The attack consists in iterating throught the reader messages,checking if the tag has replied and taking the mean of multiple equal samples (e.g. 5, 10, 15, 20)"
   ]
  },
  {
   "cell_type": "markdown",
   "id": "3d3cada4-dfdb-47a6-962f-96c787b8ccb9",
   "metadata": {},
   "source": [
    "All possible positions in wallet <card,blck_card>:\n",
    "- 2,1\n",
    "- 3,1\n",
    "- 4,1\n",
    "\n",
    "\n",
    "- 1,2\n",
    "- 3,2\n",
    "- 4,2\n",
    "\n",
    "\n",
    "- 1,3\n",
    "- 2,3\n",
    "- 4,3\n",
    "\n",
    "\n",
    "- 1,4\n",
    "- 2,4\n",
    "- 3,4"
   ]
  },
  {
   "cell_type": "markdown",
   "id": "15f4ad33-d9c2-4229-ac41-e5d09ce922f4",
   "metadata": {},
   "source": [
    "Set the blocking cards list and folder name"
   ]
  },
  {
   "cell_type": "code",
   "execution_count": null,
   "id": "80251257-aa34-47a1-ad27-c487ee5d6a4c",
   "metadata": {},
   "outputs": [],
   "source": [
    "from data_const import *"
   ]
  },
  {
   "cell_type": "markdown",
   "id": "9f4acbe8-2a00-472d-afb2-50e7f6e243da",
   "metadata": {},
   "source": [
    "Iterate and make demodulation stats based on passed mean [0, 4, 9, 14] and store a csv"
   ]
  },
  {
   "cell_type": "code",
   "execution_count": null,
   "id": "d8e7852f",
   "metadata": {},
   "outputs": [],
   "source": [
    "for blck_name in blck_list:\n",
    "    directory = folder_name+blck_name\n",
    "    directory_results = results_folder_name+blck_name\n",
    "    print(os.listdir(directory))\n",
    "    for filename in os.listdir(directory): \n",
    "        file_name = os.path.join(directory, filename)\n",
    "        if filename.endswith(\".raw\"):\n",
    "            print(file_name)\n",
    "            for mean_value in [0, 1, 3, 4, 7, 9, 14, 15, 31]:\n",
    "            #for mean_value in [0\n",
    "                stats_file = os.path.join(directory_results, filename.replace(\".raw\",\"\")+\"_rtl_sdr_%i.csv\" % mean_value)\n",
    "                print(stats_file)\n",
    "                if not Path(stats_file).is_file():\n",
    "                    get_demodulation_stats(\n",
    "                        gnuradio_file=file_name, \n",
    "                        libnfc_file=file_name.replace(\".raw\",\".txt\"), \n",
    "                        expected_file=\"../data/ev1_clean/clean_4_na.txt\",\n",
    "                        output_file=None,\n",
    "                        stats_file = stats_file,\n",
    "                        mean_samples = mean_value,\n",
    "                    )\n",
    "                else:\n",
    "                    print(\"already ran for\", file_name)\n",
    "    print(\"\\n\")"
   ]
  },
  {
   "cell_type": "markdown",
   "id": "b8105972-88d4-4b9f-bfdf-42df6abfd4f0",
   "metadata": {},
   "source": [
    "Create the dataframe to collect all stats"
   ]
  },
  {
   "cell_type": "code",
   "execution_count": null,
   "id": "40f34591",
   "metadata": {},
   "outputs": [],
   "source": [
    "huge_df = pd.DataFrame()\n",
    "for blck_name in blck_list:\n",
    "    directory_results = results_folder_name+blck_name\n",
    "    for filename in os.listdir(directory_results):\n",
    "        if filename.endswith(\".csv\"):\n",
    "            df = pd.read_csv(directory_results+\"/\"+filename)\n",
    "            # add filename, blocking card type, positions\n",
    "            position = filename[:3]\n",
    "            uid = blck_name + \"_\" + position + '_%i' % df['means'][0]\n",
    "            df.insert(0,\"id\",uid,True)\n",
    "            df.insert(0,\"position\",position,True)\n",
    "            df.insert(0,\"blck_name\",blck_name,True)\n",
    "            huge_df = huge_df.append(df)\n",
    "##tag\n",
    "# fix detected\n",
    "huge_df['*_both_tag_detected'] = huge_df.apply(lambda row: row['correct_libnfc_rtlsdr'] if row['rtl_tag_detected'] < row['correct_libnfc_rtlsdr'] else row['rtl_tag_detected'], axis=1)\n",
    "\n",
    "#1. rtl is correct, libnfc is wrong\n",
    "#correct_rtlsdr_wrong_libnfc\n",
    "#2. rtl is correct, libnfc is correct\n",
    "# rtl_tag_correct - correct_rtlsdr_wrong_libnfc\n",
    "huge_df['4_both_correct'] = huge_df['correct_libnfc_rtlsdr'] - huge_df['correct_rtlsdr_wrong_libnfc'] - huge_df['correct_libnfc_wrong_rtlsdr']\n",
    "#3. rtl is wrong, libnfc is correct\n",
    "# correct_libnfc_wrong_rtlsdr\n",
    "# 4. detected - (somma)\n",
    "huge_df['2_both_wrong'] = huge_df['*_both_tag_detected'] - huge_df['correct_libnfc_rtlsdr']\n",
    "# 5. no reply = tag_expected_tot - (4)\n",
    "huge_df['1_no_reply'] = huge_df['tag_expected_tot'] - huge_df['*_both_tag_detected']\n",
    "\n",
    "huge_df['5_correct_rtlsdr_wrong_libnfc'] = huge_df['correct_rtlsdr_wrong_libnfc']\n",
    "huge_df['3_correct_libnfc_wrong_rtlsdr'] = huge_df['correct_libnfc_wrong_rtlsdr']\n",
    "huge_df['tot_check'] = huge_df['5_correct_rtlsdr_wrong_libnfc'] + huge_df['4_both_correct'] + huge_df['3_correct_libnfc_wrong_rtlsdr'] + huge_df['2_both_wrong'] + huge_df['1_no_reply']\n",
    "\n",
    "huge_df['success'] = huge_df['5_correct_rtlsdr_wrong_libnfc'] + huge_df['4_both_correct'] + huge_df['3_correct_libnfc_wrong_rtlsdr']\n",
    "huge_df['failed'] = huge_df['1_no_reply'] + huge_df['2_both_wrong']\n",
    "huge_df['success_rate'] = huge_df['success'] / (huge_df['failed'] + huge_df['success'] )\n",
    "\n",
    "# huge_df['correct_both'] = huge_df['rtl_tag_correct'] - (huge_df['libnfc_tag_correct'] - huge_df['correct_libnfc_wrong_rtlsdr'])\n",
    "# huge_df['rtl_libnfc_tag_wrong'] = huge_df['rtl_tag_detected_both'] - huge_df['rtl_tag_correct'] - huge_df['correct_libnfc_wrong_rtlsdr']\n",
    "# huge_df['rtl_tag_noreply'] = huge_df['tag_expected_tot'] - huge_df['rtl_tag_detected_both']\n",
    "##reader\n",
    "# huge_df['rtl_reader_wrong'] = huge_df['rtl_reader_tot'] - huge_df['rtl_reader_correct']\n",
    "huge_df = huge_df.set_index('id')\n",
    "huge_df = huge_df.sort_values(by=['position', 'means'])\n",
    "display(huge_df)\n",
    "print(\"saving df to %s\" % (results_folder_name + \"huge_df.csv\"))\n",
    "huge_df.to_csv(results_folder_name + \"huge_df.csv\")"
   ]
  }
 ],
 "metadata": {
  "kernelspec": {
   "display_name": "Python 3 (ipykernel)",
   "language": "python",
   "name": "python3"
  },
  "language_info": {
   "codemirror_mode": {
    "name": "ipython",
    "version": 3
   },
   "file_extension": ".py",
   "mimetype": "text/x-python",
   "name": "python",
   "nbconvert_exporter": "python",
   "pygments_lexer": "ipython3",
   "version": "3.10.4"
  }
 },
 "nbformat": 4,
 "nbformat_minor": 5
}
